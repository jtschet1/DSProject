{
  "nbformat": 4,
  "nbformat_minor": 0,
  "metadata": {
    "colab": {
      "name": "Salaries_SVM.ipynb",
      "provenance": [],
      "collapsed_sections": []
    },
    "kernelspec": {
      "name": "python3",
      "display_name": "Python 3"
    },
    "language_info": {
      "name": "python"
    }
  },
  "cells": [
    {
      "cell_type": "code",
      "metadata": {
        "id": "mDcVDtdlSCOO"
      },
      "source": [
        "import pandas as pd\n",
        "import pylab as pl\n",
        "import numpy as np\n",
        "import scipy.optimize as opt\n",
        "from sklearn import preprocessing\n",
        "from sklearn.model_selection import train_test_split\n",
        "%matplotlib inline \n",
        "import matplotlib.pyplot as plt"
      ],
      "execution_count": null,
      "outputs": []
    },
    {
      "cell_type": "markdown",
      "metadata": {
        "id": "Mh2L18eiV6jW"
      },
      "source": [
        "### Load Data From CSV File\n"
      ]
    },
    {
      "cell_type": "code",
      "metadata": {
        "colab": {
          "base_uri": "https://localhost:8080/",
          "height": 348
        },
        "id": "pdQ7egsiV7NS",
        "outputId": "d834e01f-1b1d-4464-c807-48c0357c5971"
      },
      "source": [
        "dataset = pd.read_csv(\"Levels_Fyi_Salary_Data.csv\")\n",
        "columns = [\"tag\", \"gender\", \"otherdetails\", \"Race\", \"Education\"]\n",
        "dataset.head()\n"
      ],
      "execution_count": null,
      "outputs": [
        {
          "output_type": "execute_result",
          "data": {
            "text/html": [
              "<div>\n",
              "<style scoped>\n",
              "    .dataframe tbody tr th:only-of-type {\n",
              "        vertical-align: middle;\n",
              "    }\n",
              "\n",
              "    .dataframe tbody tr th {\n",
              "        vertical-align: top;\n",
              "    }\n",
              "\n",
              "    .dataframe thead th {\n",
              "        text-align: right;\n",
              "    }\n",
              "</style>\n",
              "<table border=\"1\" class=\"dataframe\">\n",
              "  <thead>\n",
              "    <tr style=\"text-align: right;\">\n",
              "      <th></th>\n",
              "      <th>timestamp</th>\n",
              "      <th>company</th>\n",
              "      <th>level</th>\n",
              "      <th>title</th>\n",
              "      <th>totalyearlycompensation</th>\n",
              "      <th>location</th>\n",
              "      <th>yearsofexperience</th>\n",
              "      <th>yearsatcompany</th>\n",
              "      <th>tag</th>\n",
              "      <th>basesalary</th>\n",
              "      <th>stockgrantvalue</th>\n",
              "      <th>bonus</th>\n",
              "      <th>gender</th>\n",
              "      <th>otherdetails</th>\n",
              "      <th>cityid</th>\n",
              "      <th>dmaid</th>\n",
              "      <th>rowNumber</th>\n",
              "      <th>Masters_Degree</th>\n",
              "      <th>Bachelors_Degree</th>\n",
              "      <th>Doctorate_Degree</th>\n",
              "      <th>Highschool</th>\n",
              "      <th>Some_College</th>\n",
              "      <th>Race_Asian</th>\n",
              "      <th>Race_White</th>\n",
              "      <th>Race_Two_Or_More</th>\n",
              "      <th>Race_Black</th>\n",
              "      <th>Race_Hispanic</th>\n",
              "      <th>Race</th>\n",
              "      <th>Education</th>\n",
              "    </tr>\n",
              "  </thead>\n",
              "  <tbody>\n",
              "    <tr>\n",
              "      <th>0</th>\n",
              "      <td>6/7/2017 11:33:27</td>\n",
              "      <td>Oracle</td>\n",
              "      <td>L3</td>\n",
              "      <td>Product Manager</td>\n",
              "      <td>127000</td>\n",
              "      <td>Redwood City, CA</td>\n",
              "      <td>1.5</td>\n",
              "      <td>1.5</td>\n",
              "      <td>NaN</td>\n",
              "      <td>107000.0</td>\n",
              "      <td>20000.0</td>\n",
              "      <td>10000.0</td>\n",
              "      <td>NaN</td>\n",
              "      <td>NaN</td>\n",
              "      <td>7392</td>\n",
              "      <td>807.0</td>\n",
              "      <td>1</td>\n",
              "      <td>0</td>\n",
              "      <td>0</td>\n",
              "      <td>0</td>\n",
              "      <td>0</td>\n",
              "      <td>0</td>\n",
              "      <td>0</td>\n",
              "      <td>0</td>\n",
              "      <td>0</td>\n",
              "      <td>0</td>\n",
              "      <td>0</td>\n",
              "      <td>NaN</td>\n",
              "      <td>NaN</td>\n",
              "    </tr>\n",
              "    <tr>\n",
              "      <th>1</th>\n",
              "      <td>6/10/2017 17:11:29</td>\n",
              "      <td>eBay</td>\n",
              "      <td>SE 2</td>\n",
              "      <td>Software Engineer</td>\n",
              "      <td>100000</td>\n",
              "      <td>San Francisco, CA</td>\n",
              "      <td>5.0</td>\n",
              "      <td>3.0</td>\n",
              "      <td>NaN</td>\n",
              "      <td>0.0</td>\n",
              "      <td>0.0</td>\n",
              "      <td>0.0</td>\n",
              "      <td>NaN</td>\n",
              "      <td>NaN</td>\n",
              "      <td>7419</td>\n",
              "      <td>807.0</td>\n",
              "      <td>2</td>\n",
              "      <td>0</td>\n",
              "      <td>0</td>\n",
              "      <td>0</td>\n",
              "      <td>0</td>\n",
              "      <td>0</td>\n",
              "      <td>0</td>\n",
              "      <td>0</td>\n",
              "      <td>0</td>\n",
              "      <td>0</td>\n",
              "      <td>0</td>\n",
              "      <td>NaN</td>\n",
              "      <td>NaN</td>\n",
              "    </tr>\n",
              "    <tr>\n",
              "      <th>2</th>\n",
              "      <td>6/11/2017 14:53:57</td>\n",
              "      <td>Amazon</td>\n",
              "      <td>L7</td>\n",
              "      <td>Product Manager</td>\n",
              "      <td>310000</td>\n",
              "      <td>Seattle, WA</td>\n",
              "      <td>8.0</td>\n",
              "      <td>0.0</td>\n",
              "      <td>NaN</td>\n",
              "      <td>155000.0</td>\n",
              "      <td>0.0</td>\n",
              "      <td>0.0</td>\n",
              "      <td>NaN</td>\n",
              "      <td>NaN</td>\n",
              "      <td>11527</td>\n",
              "      <td>819.0</td>\n",
              "      <td>3</td>\n",
              "      <td>0</td>\n",
              "      <td>0</td>\n",
              "      <td>0</td>\n",
              "      <td>0</td>\n",
              "      <td>0</td>\n",
              "      <td>0</td>\n",
              "      <td>0</td>\n",
              "      <td>0</td>\n",
              "      <td>0</td>\n",
              "      <td>0</td>\n",
              "      <td>NaN</td>\n",
              "      <td>NaN</td>\n",
              "    </tr>\n",
              "    <tr>\n",
              "      <th>3</th>\n",
              "      <td>6/17/2017 0:23:14</td>\n",
              "      <td>Apple</td>\n",
              "      <td>M1</td>\n",
              "      <td>Software Engineering Manager</td>\n",
              "      <td>372000</td>\n",
              "      <td>Sunnyvale, CA</td>\n",
              "      <td>7.0</td>\n",
              "      <td>5.0</td>\n",
              "      <td>NaN</td>\n",
              "      <td>157000.0</td>\n",
              "      <td>180000.0</td>\n",
              "      <td>35000.0</td>\n",
              "      <td>NaN</td>\n",
              "      <td>NaN</td>\n",
              "      <td>7472</td>\n",
              "      <td>807.0</td>\n",
              "      <td>7</td>\n",
              "      <td>0</td>\n",
              "      <td>0</td>\n",
              "      <td>0</td>\n",
              "      <td>0</td>\n",
              "      <td>0</td>\n",
              "      <td>0</td>\n",
              "      <td>0</td>\n",
              "      <td>0</td>\n",
              "      <td>0</td>\n",
              "      <td>0</td>\n",
              "      <td>NaN</td>\n",
              "      <td>NaN</td>\n",
              "    </tr>\n",
              "    <tr>\n",
              "      <th>4</th>\n",
              "      <td>6/20/2017 10:58:51</td>\n",
              "      <td>Microsoft</td>\n",
              "      <td>60</td>\n",
              "      <td>Software Engineer</td>\n",
              "      <td>157000</td>\n",
              "      <td>Mountain View, CA</td>\n",
              "      <td>5.0</td>\n",
              "      <td>3.0</td>\n",
              "      <td>NaN</td>\n",
              "      <td>0.0</td>\n",
              "      <td>0.0</td>\n",
              "      <td>0.0</td>\n",
              "      <td>NaN</td>\n",
              "      <td>NaN</td>\n",
              "      <td>7322</td>\n",
              "      <td>807.0</td>\n",
              "      <td>9</td>\n",
              "      <td>0</td>\n",
              "      <td>0</td>\n",
              "      <td>0</td>\n",
              "      <td>0</td>\n",
              "      <td>0</td>\n",
              "      <td>0</td>\n",
              "      <td>0</td>\n",
              "      <td>0</td>\n",
              "      <td>0</td>\n",
              "      <td>0</td>\n",
              "      <td>NaN</td>\n",
              "      <td>NaN</td>\n",
              "    </tr>\n",
              "  </tbody>\n",
              "</table>\n",
              "</div>"
            ],
            "text/plain": [
              "            timestamp    company level  ... Race_Hispanic  Race Education\n",
              "0   6/7/2017 11:33:27     Oracle    L3  ...             0   NaN       NaN\n",
              "1  6/10/2017 17:11:29       eBay  SE 2  ...             0   NaN       NaN\n",
              "2  6/11/2017 14:53:57     Amazon    L7  ...             0   NaN       NaN\n",
              "3   6/17/2017 0:23:14      Apple    M1  ...             0   NaN       NaN\n",
              "4  6/20/2017 10:58:51  Microsoft    60  ...             0   NaN       NaN\n",
              "\n",
              "[5 rows x 29 columns]"
            ]
          },
          "metadata": {},
          "execution_count": 2
        }
      ]
    },
    {
      "cell_type": "markdown",
      "metadata": {
        "id": "HOcCmtKQXluU"
      },
      "source": [
        "### Replace NaN values"
      ]
    },
    {
      "cell_type": "code",
      "metadata": {
        "colab": {
          "base_uri": "https://localhost:8080/"
        },
        "id": "ZYHyFPldXlCF",
        "outputId": "32365fbb-766c-4591-cc17-7645ff3b8c0e"
      },
      "source": [
        "from sklearn.impute import SimpleImputer\n",
        "dataset = dataset.dropna()\n",
        "dataset.shape"
      ],
      "execution_count": null,
      "outputs": [
        {
          "output_type": "execute_result",
          "data": {
            "text/plain": [
              "(21521, 29)"
            ]
          },
          "metadata": {},
          "execution_count": 13
        }
      ]
    },
    {
      "cell_type": "code",
      "metadata": {
        "colab": {
          "base_uri": "https://localhost:8080/"
        },
        "id": "JIhIOqCtqo1N",
        "outputId": "f5d9f438-d611-48bd-fb36-7360e3fafdb9"
      },
      "source": [
        "features = dataset[['totalyearlycompensation', 'yearsofexperience', 'yearsatcompany', 'basesalary', 'stockgrantvalue', 'bonus']]\n",
        "X = np.asarray(features)\n",
        "X[0:6]"
      ],
      "execution_count": null,
      "outputs": [
        {
          "output_type": "execute_result",
          "data": {
            "text/plain": [
              "array([[4.00e+05, 5.00e+00, 5.00e+00, 2.10e+05, 1.45e+05, 4.50e+04],\n",
              "       [1.36e+05, 3.00e+00, 2.00e+00, 1.24e+05, 1.00e+03, 1.10e+04],\n",
              "       [3.37e+05, 6.00e+00, 6.00e+00, 1.77e+05, 1.25e+05, 3.60e+04],\n",
              "       [2.22e+05, 4.00e+00, 4.00e+00, 1.64e+05, 3.80e+04, 2.00e+04],\n",
              "       [1.87e+05, 5.00e+00, 0.00e+00, 1.65e+05, 2.20e+04, 0.00e+00],\n",
              "       [3.10e+05, 1.50e+01, 3.00e+00, 1.60e+05, 1.50e+05, 0.00e+00]])"
            ]
          },
          "metadata": {},
          "execution_count": 4
        }
      ]
    },
    {
      "cell_type": "markdown",
      "metadata": {
        "id": "NBI2doUOrbwN"
      },
      "source": [
        "## Data pre-processing and selection"
      ]
    },
    {
      "cell_type": "markdown",
      "metadata": {
        "id": "8F3imin0ri4O"
      },
      "source": [
        "We want the model to predict the value of title (that is, Software Engineer (= 'S') or ProductManager (= 'P')). As this field can have one of only two possible values, we need to change its measurement level to reflect this."
      ]
    },
    {
      "cell_type": "code",
      "metadata": {
        "colab": {
          "base_uri": "https://localhost:8080/"
        },
        "id": "KfFgpzvercoJ",
        "outputId": "e1c77d02-82ee-4c02-9262-6ade7f43d330"
      },
      "source": [
        "dataset['title'] = dataset['title'].astype('object')\n",
        "y = np.asarray(dataset['title'])\n",
        "y [0:6]"
      ],
      "execution_count": null,
      "outputs": [
        {
          "output_type": "stream",
          "name": "stderr",
          "text": [
            "/usr/local/lib/python3.7/dist-packages/ipykernel_launcher.py:1: SettingWithCopyWarning: \n",
            "A value is trying to be set on a copy of a slice from a DataFrame.\n",
            "Try using .loc[row_indexer,col_indexer] = value instead\n",
            "\n",
            "See the caveats in the documentation: https://pandas.pydata.org/pandas-docs/stable/user_guide/indexing.html#returning-a-view-versus-a-copy\n",
            "  \"\"\"Entry point for launching an IPython kernel.\n"
          ]
        },
        {
          "output_type": "execute_result",
          "data": {
            "text/plain": [
              "array(['Software Engineer', 'Software Engineer', 'Software Engineer',\n",
              "       'Software Engineer', 'Software Engineer', 'Software Engineer'],\n",
              "      dtype=object)"
            ]
          },
          "metadata": {},
          "execution_count": 5
        }
      ]
    },
    {
      "cell_type": "markdown",
      "metadata": {
        "id": "FSiEFuSHsKzf"
      },
      "source": [
        "## Train/Test dataset\n"
      ]
    },
    {
      "cell_type": "markdown",
      "metadata": {
        "id": "wwHUNhpWsQQs"
      },
      "source": [
        "Split our dataset into train and test set:\n",
        "\n",
        "---"
      ]
    },
    {
      "cell_type": "code",
      "metadata": {
        "colab": {
          "base_uri": "https://localhost:8080/"
        },
        "id": "K7Ldsy9esLpr",
        "outputId": "5a7e42d2-09d0-4359-f473-2ae7fcabfed6"
      },
      "source": [
        "X_train, X_test, y_train, y_test = train_test_split( X, y, test_size=0.2, random_state=4)\n",
        "print ('Train set:', X_train.shape,  y_train.shape)\n",
        "print ('Test set:', X_test.shape,  y_test.shape)"
      ],
      "execution_count": null,
      "outputs": [
        {
          "output_type": "stream",
          "name": "stdout",
          "text": [
            "Train set: (17216, 6) (17216,)\n",
            "Test set: (4305, 6) (4305,)\n"
          ]
        }
      ]
    },
    {
      "cell_type": "markdown",
      "metadata": {
        "id": "6rY1Rg7PsY3c"
      },
      "source": [
        "<h2 id=\"modeling\">Modeling (SVM with Scikit-learn using RBF kernel)</h2>"
      ]
    },
    {
      "cell_type": "code",
      "metadata": {
        "colab": {
          "base_uri": "https://localhost:8080/"
        },
        "id": "e_dBYOA0sZtH",
        "outputId": "b54a2693-e95b-496e-ac51-2cb11c29d0d9"
      },
      "source": [
        "from sklearn import svm\n",
        "clf = svm.SVC(kernel='rbf')\n",
        "clf.fit(X_train, y_train) "
      ],
      "execution_count": null,
      "outputs": [
        {
          "output_type": "execute_result",
          "data": {
            "text/plain": [
              "SVC()"
            ]
          },
          "metadata": {},
          "execution_count": 7
        }
      ]
    },
    {
      "cell_type": "markdown",
      "metadata": {
        "id": "iSLEg_ajsoST"
      },
      "source": [
        "After being fitted, the model can then be used to predict new values:\n"
      ]
    },
    {
      "cell_type": "code",
      "metadata": {
        "colab": {
          "base_uri": "https://localhost:8080/"
        },
        "id": "-WQSkPQXskuF",
        "outputId": "be350af6-c6ff-4a85-f038-60bd0b4eb416"
      },
      "source": [
        "yhat = clf.predict(X_test)\n",
        "yhat [0:6]"
      ],
      "execution_count": null,
      "outputs": [
        {
          "output_type": "execute_result",
          "data": {
            "text/plain": [
              "array(['Software Engineer', 'Software Engineer', 'Software Engineer',\n",
              "       'Software Engineer', 'Software Engineer', 'Software Engineer'],\n",
              "      dtype=object)"
            ]
          },
          "metadata": {},
          "execution_count": 8
        }
      ]
    },
    {
      "cell_type": "markdown",
      "metadata": {
        "id": "Q9yoAX2dtlRh"
      },
      "source": [
        "<h2 id=\"evaluation\">Evaluation</h2>"
      ]
    },
    {
      "cell_type": "code",
      "metadata": {
        "id": "h5nT2BpitmDl"
      },
      "source": [
        "from sklearn.metrics import classification_report, confusion_matrix\n",
        "import itertools"
      ],
      "execution_count": null,
      "outputs": []
    },
    {
      "cell_type": "code",
      "metadata": {
        "id": "3-Wdi1litrD2"
      },
      "source": [
        "def plot_confusion_matrix(cm, classes,\n",
        "                          normalize=False,\n",
        "                          title='Confusion matrix',\n",
        "                          cmap=plt.cm.Blues):\n",
        "    \"\"\"\n",
        "    This function prints and plots the confusion matrix.\n",
        "    Normalization can be applied by setting `normalize=True`.\n",
        "    \"\"\"\n",
        "    if normalize:\n",
        "        cm = cm.astype('float') / cm.sum(axis=1)[:, np.newaxis]\n",
        "        print(\"Normalized confusion matrix\")\n",
        "    else:\n",
        "        print('Confusion matrix, without normalization')\n",
        "\n",
        "    print(cm)\n",
        "\n",
        "    plt.imshow(cm, interpolation='nearest', cmap=cmap)\n",
        "    plt.title(title)\n",
        "    plt.colorbar()\n",
        "    tick_marks = np.arange(len(classes))\n",
        "    plt.xticks(tick_marks, classes, rotation=45)\n",
        "    plt.yticks(tick_marks, classes)\n",
        "\n",
        "    fmt = '.2f' if normalize else 'd'\n",
        "    thresh = cm.max() / 2.\n",
        "    for i, j in itertools.product(range(cm.shape[0]), range(cm.shape[1])):\n",
        "        plt.text(j, i, format(cm[i, j], fmt),\n",
        "                 horizontalalignment=\"center\",\n",
        "                 color=\"white\" if cm[i, j] > thresh else \"black\")\n",
        "\n",
        "    plt.tight_layout()\n",
        "    plt.ylabel('True label')\n",
        "    plt.xlabel('Predicted label')"
      ],
      "execution_count": null,
      "outputs": []
    },
    {
      "cell_type": "code",
      "metadata": {
        "colab": {
          "base_uri": "https://localhost:8080/",
          "height": 869
        },
        "id": "kDT-gUh_tv2s",
        "outputId": "12d19fb3-d891-44e0-99d9-a040c1ccb75d"
      },
      "source": [
        "# Compute confusion matrix\n",
        "cnf_matrix = confusion_matrix(y_test, yhat, labels=['Software Engineer','Product Manager'])\n",
        "np.set_printoptions(precision=2)\n",
        "\n",
        "print (classification_report(y_test, yhat))\n",
        "\n",
        "# Plot non-normalized confusion matrix\n",
        "plt.figure()\n",
        "plot_confusion_matrix(cnf_matrix, classes=['Software Engineer','Product Manager'],normalize= False,  title='Confusion matrix')"
      ],
      "execution_count": null,
      "outputs": [
        {
          "output_type": "stream",
          "name": "stderr",
          "text": [
            "/usr/local/lib/python3.7/dist-packages/sklearn/metrics/_classification.py:1308: UndefinedMetricWarning: Precision and F-score are ill-defined and being set to 0.0 in labels with no predicted samples. Use `zero_division` parameter to control this behavior.\n",
            "  _warn_prf(average, modifier, msg_start, len(result))\n",
            "/usr/local/lib/python3.7/dist-packages/sklearn/metrics/_classification.py:1308: UndefinedMetricWarning: Precision and F-score are ill-defined and being set to 0.0 in labels with no predicted samples. Use `zero_division` parameter to control this behavior.\n",
            "  _warn_prf(average, modifier, msg_start, len(result))\n",
            "/usr/local/lib/python3.7/dist-packages/sklearn/metrics/_classification.py:1308: UndefinedMetricWarning: Precision and F-score are ill-defined and being set to 0.0 in labels with no predicted samples. Use `zero_division` parameter to control this behavior.\n",
            "  _warn_prf(average, modifier, msg_start, len(result))\n"
          ]
        },
        {
          "output_type": "stream",
          "name": "stdout",
          "text": [
            "                              precision    recall  f1-score   support\n",
            "\n",
            "            Business Analyst       0.00      0.00      0.00        80\n",
            "              Data Scientist       0.00      0.00      0.00       176\n",
            "           Hardware Engineer       0.00      0.00      0.00       156\n",
            "             Human Resources       0.00      0.00      0.00        26\n",
            "       Management Consultant       0.00      0.00      0.00        92\n",
            "                   Marketing       0.00      0.00      0.00        73\n",
            "         Mechanical Engineer       0.00      0.00      0.00        54\n",
            "            Product Designer       0.00      0.00      0.00       123\n",
            "             Product Manager       0.00      0.00      0.00       269\n",
            "                   Recruiter       0.00      0.00      0.00        43\n",
            "                       Sales       0.00      0.00      0.00        41\n",
            "           Software Engineer       0.63      1.00      0.78      2730\n",
            "Software Engineering Manager       0.00      0.00      0.00       213\n",
            "          Solution Architect       0.00      0.00      0.00        73\n",
            "   Technical Program Manager       0.00      0.00      0.00       156\n",
            "\n",
            "                    accuracy                           0.63      4305\n",
            "                   macro avg       0.04      0.07      0.05      4305\n",
            "                weighted avg       0.40      0.63      0.49      4305\n",
            "\n",
            "Confusion matrix, without normalization\n",
            "[[2728    0]\n",
            " [ 269    0]]\n"
          ]
        },
        {
          "output_type": "display_data",
          "data": {
            "image/png": "[encoded data removed]",
            "text/plain": [
              "<Figure size 432x288 with 2 Axes>"
            ]
          },
          "metadata": {
            "needs_background": "light"
          }
        }
      ]
    },
    {
      "cell_type": "code",
      "metadata": {
        "id": "UYOt6ox4xHBY",
        "colab": {
          "base_uri": "https://localhost:8080/"
        },
        "outputId": "87f08455-b93b-495b-8377-a9c4fbc09b0c"
      },
      "source": [
        "from sklearn.metrics import f1_score\n",
        "f1_score(y_test, yhat, average='weighted') "
      ],
      "execution_count": null,
      "outputs": [
        {
          "output_type": "execute_result",
          "data": {
            "text/plain": [
              "0.49195257202109904"
            ]
          },
          "metadata": {},
          "execution_count": 12
        }
      ]
    }
  ]
}